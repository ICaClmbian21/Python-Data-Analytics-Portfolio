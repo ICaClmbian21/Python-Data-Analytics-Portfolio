{
 "cells": [
  {
   "cell_type": "code",
   "execution_count": 1,
   "metadata": {
    "collapsed": true
   },
   "outputs": [],
   "source": [
    "import numpy as np"
   ]
  },
  {
   "cell_type": "code",
   "execution_count": 2,
   "metadata": {
    "collapsed": false
   },
   "outputs": [
    {
     "name": "stdout",
     "output_type": "stream",
     "text": [
      "[ 1.          1.41421356  1.73205081  2.          2.23606798  2.44948974\n",
      "  2.64575131  2.82842712  3.          3.16227766]\n"
     ]
    }
   ],
   "source": [
    "# Generate NumPy array.\n",
    "\n",
    "arr1 = np.array(range(1, 11))\n",
    "print arr1 ** 0.5"
   ]
  },
  {
   "cell_type": "code",
   "execution_count": 3,
   "metadata": {
    "collapsed": false
   },
   "outputs": [
    {
     "name": "stdout",
     "output_type": "stream",
     "text": [
      "[[0 1 2 3 4]\n",
      " [5 6 7 8 9]]\n"
     ]
    }
   ],
   "source": [
    "# Create NumPy array and convert to two dimensions.\n",
    "\n",
    "arr2 = np.array(range(10)).reshape(2, 5)\n",
    "print arr2"
   ]
  },
  {
   "cell_type": "code",
   "execution_count": 4,
   "metadata": {
    "collapsed": false
   },
   "outputs": [
    {
     "name": "stdout",
     "output_type": "stream",
     "text": [
      "0\n",
      "9\n",
      "45\n",
      "(2, 5)\n"
     ]
    }
   ],
   "source": [
    "# Using different functions and methods on a NumPy array.\n",
    "\n",
    "print np.argmin(arr2[1])\n",
    "print max(arr2[1])\n",
    "print np.sum(arr2)\n",
    "print arr2.shape"
   ]
  },
  {
   "cell_type": "code",
   "execution_count": 5,
   "metadata": {
    "collapsed": false
   },
   "outputs": [
    {
     "name": "stdout",
     "output_type": "stream",
     "text": [
      "[ True False False]\n",
      "[ 9 10 11]\n",
      "[False  True  True]\n",
      "9\n",
      "8.0\n",
      "0.816496580928\n"
     ]
    }
   ],
   "source": [
    "# Using vectorized operations, boolean comparisons, and additional functions with NumPy array.\n",
    "\n",
    "z = np.array([7, 8, 9])\n",
    "print z == [7, 7, 7]\n",
    "print z + 2\n",
    "print z >= 8\n",
    "print max(z)\n",
    "print np.mean(z)\n",
    "print np.std(z)"
   ]
  },
  {
   "cell_type": "code",
   "execution_count": 6,
   "metadata": {
    "collapsed": false
   },
   "outputs": [
    {
     "name": "stdout",
     "output_type": "stream",
     "text": [
      "[[[ 0  1  2  3  4]\n",
      "  [ 5  6  7  8  9]\n",
      "  [10 11 12 13 14]]\n",
      "\n",
      " [[15 16 17 18 19]\n",
      "  [20 21 22 23 24]\n",
      "  [25 26 27 28 29]]]\n",
      "\n",
      "Indexing:\n",
      "[[15 16 17 18 19]\n",
      " [20 21 22 23 24]\n",
      " [25 26 27 28 29]]\n",
      "\n",
      "Indexing:\n",
      "[25 26 27 28 29]\n",
      "\n",
      "Indexing:\n",
      "28\n"
     ]
    }
   ],
   "source": [
    "# Indexing a 3D NumPy array.\n",
    "\n",
    "arr3d = np.arange(30).reshape(2, 3, 5)\n",
    "print arr3d\n",
    "\n",
    "# Providing one index.\n",
    "print \"\\nIndexing:\\n\", arr3d[1]\n",
    "\n",
    "# Providing two indices.\n",
    "print \"\\nIndexing:\\n\", arr3d[1][2]\n",
    "\n",
    "# Providing three indicies\n",
    "print \"\\nIndexing:\\n\", arr3d[1][2][3]"
   ]
  },
  {
   "cell_type": "code",
   "execution_count": 7,
   "metadata": {
    "collapsed": false
   },
   "outputs": [
    {
     "name": "stdout",
     "output_type": "stream",
     "text": [
      "[[20 21]\n",
      " [25 26]]\n"
     ]
    }
   ],
   "source": [
    "# Indexing within one set of brackets across all three dimensions using slicing.\n",
    "print arr3d[1, 1:, 0:2]"
   ]
  },
  {
   "cell_type": "code",
   "execution_count": 8,
   "metadata": {
    "collapsed": false
   },
   "outputs": [
    {
     "name": "stdout",
     "output_type": "stream",
     "text": [
      "[ 1  4  7 10 13 16 19 22 25 28]\n"
     ]
    }
   ],
   "source": [
    "# Using boolean to create slice of the 3D NumPy array.\n",
    "print arr3d[arr3d % 3 == 1]"
   ]
  },
  {
   "cell_type": "code",
   "execution_count": 9,
   "metadata": {
    "collapsed": false
   },
   "outputs": [
    {
     "name": "stdout",
     "output_type": "stream",
     "text": [
      "[0 1 2 3 4 5 6 7 8 9]\n",
      "[0 1 2]\n",
      "[2000    1    2]\n",
      "[2000    1    2    3    4    5    6    7    8    9]\n",
      "[2000    1    2    3    4    5    6    7    8    9]\n",
      "[108 108 108   3   4   5   6   7   8   9]\n",
      "[2000    1    2    3    4    5    6    7    8    9]\n"
     ]
    }
   ],
   "source": [
    "# Indexing a NumPy, which provides views of the source array. Any modifications made to them affect the source!\n",
    "\n",
    "arr = np.arange(10)\n",
    "print arr\n",
    "\n",
    "arr_slice = arr[0:3]\n",
    "print arr_slice\n",
    "\n",
    "arr_slice[0] = 2000\n",
    "\n",
    "print arr_slice\n",
    "print arr\n",
    "\n",
    "# To make a copy of an array, use the copy() method.\n",
    "\n",
    "arr_copy = arr.copy()\n",
    "\n",
    "print arr_copy\n",
    "arr_copy_slice = arr_copy[0:3]\n",
    "arr_copy_slice[:] = 108\n",
    "\n",
    "print arr_copy\n",
    "print arr"
   ]
  },
  {
   "cell_type": "code",
   "execution_count": 10,
   "metadata": {
    "collapsed": false
   },
   "outputs": [
    {
     "name": "stdout",
     "output_type": "stream",
     "text": [
      "[[1 2 3 4]] \n",
      "\n",
      "[ True  True False]\n",
      "[[1 2 3 4]\n",
      " [4 5 6 7]]\n"
     ]
    }
   ],
   "source": [
    "# Using broadcasting to use one array to index another.\n",
    "\n",
    "boolarray = np.array([\"Adam\", \"Lee\", \"Margreth\"])\n",
    "arr2d = np.array([[1, 2, 3, 4], [4, 5, 6, 7], [7, 8, 9, 10]])\n",
    "\n",
    "# Generates array of values from arr2d using \"Adam\" as the index.\n",
    "print arr2d[boolarray == \"Adam\"], '\\n'\n",
    "\n",
    "# Creates mask with which to index second array.\n",
    "mask = (boolarray == \"Adam\") | (boolarray == \"Lee\")\n",
    "print mask\n",
    "\n",
    "print arr2d[mask]\n"
   ]
  },
  {
   "cell_type": "code",
   "execution_count": 11,
   "metadata": {
    "collapsed": false
   },
   "outputs": [
    {
     "name": "stdout",
     "output_type": "stream",
     "text": [
      "[  1.           2.71828183   7.3890561   20.08553692  54.59815003]\n"
     ]
    }
   ],
   "source": [
    "# NumPy exp() function takes the base of the natural logarithm (Euler's number)\n",
    "# to the power of each number in the array passed in.\n",
    "\n",
    "arr1 = np.arange(5)\n",
    "print np.exp(arr1)"
   ]
  },
  {
   "cell_type": "code",
   "execution_count": 12,
   "metadata": {
    "collapsed": false
   },
   "outputs": [
    {
     "name": "stdout",
     "output_type": "stream",
     "text": [
      "[  1.           1.18367347   1.36734694   1.55102041   1.73469388\n",
      "   1.91836735   2.10204082   2.28571429   2.46938776   2.65306122\n",
      "   2.83673469   3.02040816   3.20408163   3.3877551    3.57142857\n",
      "   3.75510204   3.93877551   4.12244898   4.30612245   4.48979592\n",
      "   4.67346939   4.85714286   5.04081633   5.2244898    5.40816327\n",
      "   5.59183673   5.7755102    5.95918367   6.14285714   6.32653061\n",
      "   6.51020408   6.69387755   6.87755102   7.06122449   7.24489796\n",
      "   7.42857143   7.6122449    7.79591837   7.97959184   8.16326531\n",
      "   8.34693878   8.53061224   8.71428571   8.89795918   9.08163265\n",
      "   9.26530612   9.44897959   9.63265306   9.81632653  10.        ]\n",
      "[  5.    7.5  10. ]\n"
     ]
    }
   ],
   "source": [
    "# linspace() function creates an array of equidistant values ranging from\n",
    "# the start value to the stop value (default steps = 50)\n",
    "\n",
    "print np.linspace(1, 10)\n",
    "\n",
    "print np.linspace(5, 10, 3)"
   ]
  },
  {
   "cell_type": "code",
   "execution_count": 13,
   "metadata": {
    "collapsed": false
   },
   "outputs": [
    {
     "name": "stdout",
     "output_type": "stream",
     "text": [
      "70\n"
     ]
    }
   ],
   "source": [
    "# NumPt dot() function adds together the products of multiplying across matricies.\n",
    "\n",
    "a = np.array([1, 2, 3, 4])\n",
    "b = np.array([5, 6, 7, 8])\n",
    "\n",
    "print np.dot(a, b)"
   ]
  },
  {
   "cell_type": "code",
   "execution_count": 14,
   "metadata": {
    "collapsed": false
   },
   "outputs": [
    {
     "name": "stdout",
     "output_type": "stream",
     "text": [
      "[[ 0.  0.]\n",
      " [ 0.  0.]]\n",
      "[[ 1.  1.]\n",
      " [ 1.  1.]]\n",
      "[[ 8.  8.  8.]\n",
      " [ 8.  8.  8.]]\n",
      "[[ 0.  0.]\n",
      " [ 0.  0.]\n",
      " [ 0.  0.]]\n"
     ]
    },
    {
     "name": "stderr",
     "output_type": "stream",
     "text": [
      "/Users/adamweber/anaconda/lib/python2.7/site-packages/numpy/core/numeric.py:294: FutureWarning: in the future, full([2, 3], 8) will return an array of dtype('int64')\n",
      "  format(shape, fill_value, array(fill_value).dtype), FutureWarning)\n"
     ]
    }
   ],
   "source": [
    "# Creating NumPy arrays with alternative functions (zeros(), ones(), and full(), and empty()).\n",
    "\n",
    "a = np.zeros([2, 2])\n",
    "print a\n",
    "\n",
    "b = np.ones([2, 2])\n",
    "print b\n",
    "\n",
    "c = np.full([2, 3], 8)\n",
    "print c\n",
    "\n",
    "d = np.empty([3, 2])\n",
    "print d"
   ]
  },
  {
   "cell_type": "code",
   "execution_count": 15,
   "metadata": {
    "collapsed": false
   },
   "outputs": [
    {
     "name": "stdout",
     "output_type": "stream",
     "text": [
      "[[[ 0  1  2  3  4  5]\n",
      "  [ 6  7  8  9 10 11]]\n",
      "\n",
      " [[12 13 14 15 16 17]\n",
      "  [18 19 20 21 22 23]]]\n",
      "0 1 2 3 4 5 6 7 8 9 10 11 12 13 14 15 16 17 18 19 20 21 22 23 \n",
      "[ 0  1  2  3  4  5  6  7  8  9 10 11 12 13 14 15 16 17 18 19 20 21 22 23]\n"
     ]
    }
   ],
   "source": [
    "# Using flat iterator and ravel() method.\n",
    "\n",
    "a = np.arange(24).reshape(2, 2, 6)\n",
    "print a\n",
    "\n",
    "for item in a.flat:\n",
    "    print item,\n",
    "\n",
    "b = a.ravel()\n",
    "print '\\n', b"
   ]
  },
  {
   "cell_type": "code",
   "execution_count": 16,
   "metadata": {
    "collapsed": false
   },
   "outputs": [
    {
     "name": "stdout",
     "output_type": "stream",
     "text": [
      "[ 0  5 10 15 20 25 30 35 40 45]\n",
      "[ 0  5 10 15 20 25 30 35 40 45]\n"
     ]
    }
   ],
   "source": [
    "# Using NumPy np.add() function to perform arithmetics on arrays (takes place elementwise)\n",
    "\n",
    "a = np.arange(10)*3\n",
    "\n",
    "b = np.arange(10)*2\n",
    "\n",
    "# Both do the same. Works the same way with np.subtract/multiply/divide\n",
    "print np.add(a, b)\n",
    "\n",
    "print a + b"
   ]
  },
  {
   "cell_type": "code",
   "execution_count": null,
   "metadata": {
    "collapsed": true
   },
   "outputs": [],
   "source": []
  }
 ],
 "metadata": {
  "kernelspec": {
   "display_name": "Python 2",
   "language": "python",
   "name": "python2"
  },
  "language_info": {
   "codemirror_mode": {
    "name": "ipython",
    "version": 2
   },
   "file_extension": ".py",
   "mimetype": "text/x-python",
   "name": "python",
   "nbconvert_exporter": "python",
   "pygments_lexer": "ipython2",
   "version": "2.7.11"
  }
 },
 "nbformat": 4,
 "nbformat_minor": 0
}

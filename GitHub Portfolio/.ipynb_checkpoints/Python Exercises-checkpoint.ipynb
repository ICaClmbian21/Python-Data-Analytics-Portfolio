{
 "cells": [
  {
   "cell_type": "code",
   "execution_count": 7,
   "metadata": {
    "collapsed": false
   },
   "outputs": [
    {
     "name": "stdout",
     "output_type": "stream",
     "text": [
      "Hello, world!\n"
     ]
    }
   ],
   "source": [
    "# Any programmer's first program...\n",
    "\n",
    "print \"Hello, world!\""
   ]
  },
  {
   "cell_type": "markdown",
   "metadata": {},
   "source": [
    "# Basic Built-in Methods & Functions"
   ]
  },
  {
   "cell_type": "code",
   "execution_count": 19,
   "metadata": {
    "collapsed": false
   },
   "outputs": [
    {
     "name": "stdout",
     "output_type": "stream",
     "text": [
      "['A', 'B', 'C', 'D', 'E', 'F', 'G', 'H', 'I', 'J', 'K', 'L', 'M', 'N', 'O', 'P', 'Q', 'R', 'S', 'T', 'U', 'V', 'W', 'X', 'Y', 'Z', 'a', 'b', 'c', 'd', 'e', 'f', 'g', 'h', 'i', 'j', 'k', 'l', 'm', 'n', 'o', 'p', 'q', 'r', 's', 't', 'u', 'v', 'w', 'x', 'y', 'z']\n"
     ]
    }
   ],
   "source": [
    "# Using extend() method.\n",
    "\n",
    "alphabet_upper = list(\"ABCDEFGHIJKLMNOPQRSTUVWXYZ\")\n",
    "alphabet_lower = [x.lower() for x in alphabet_upper]\n",
    "alphabet_upper.extend(alphabet_lower)\n",
    "alphabet_total = alphabet_upper\n",
    "print alphabet_total"
   ]
  },
  {
   "cell_type": "code",
   "execution_count": 21,
   "metadata": {
    "collapsed": false
   },
   "outputs": [
    {
     "name": "stdout",
     "output_type": "stream",
     "text": [
      "{0: 'A', 1: 'B', 2: 'C', 3: 'D', 4: 'E', 5: 'F', 6: 'G', 7: 'H', 8: 'I', 9: 'J', 10: 'K', 11: 'L', 12: 'M', 13: 'N', 14: 'O', 15: 'P', 16: 'Q', 17: 'R', 18: 'S', 19: 'T', 20: 'U', 21: 'V', 22: 'W', 23: 'X', 24: 'Y', 25: 'Z', 26: 'a', 27: 'b', 28: 'c', 29: 'd', 30: 'e', 31: 'f', 32: 'g', 33: 'h', 34: 'i', 35: 'j', 36: 'k', 37: 'l', 38: 'm', 39: 'n', 40: 'o', 41: 'p', 42: 'q', 43: 'r', 44: 's', 45: 't', 46: 'u', 47: 'v', 48: 'w', 49: 'x', 50: 'y', 51: 'z'}\n"
     ]
    }
   ],
   "source": [
    "# Using enumerate() built-in function.\n",
    "\n",
    "alpha_dict = {}\n",
    "for x, i in enumerate(alphabet_total):\n",
    "    alpha_dict[x] = i\n",
    "print alpha_dict"
   ]
  },
  {
   "cell_type": "code",
   "execution_count": 133,
   "metadata": {
    "collapsed": false
   },
   "outputs": [
    {
     "name": "stdout",
     "output_type": "stream",
     "text": [
      "abcd\n",
      "['a', 'b', 'c', 'd']\n"
     ]
    }
   ],
   "source": [
    "# Converting back and forth between string and list, using enumerate() function and del operator.\n",
    "ls = [\"a\", \"b\", \"c\", \"d\"]\n",
    "string = \"\".join(ls)\n",
    "print string\n",
    "\n",
    "for i, x in enumerate(string):\n",
    "    del ls[i]\n",
    "    ls.insert(i, x)\n",
    "\n",
    "print ls"
   ]
  },
  {
   "cell_type": "code",
   "execution_count": 35,
   "metadata": {
    "collapsed": false
   },
   "outputs": [
    {
     "name": "stdout",
     "output_type": "stream",
     "text": [
      "abcd\n"
     ]
    }
   ],
   "source": [
    "# Using join() method to join items in a list.\n",
    "\n",
    "myList = ['a', 'b', 'c', 'd']\n",
    "myString = ''.join(myList)\n",
    "print myString"
   ]
  },
  {
   "cell_type": "code",
   "execution_count": 36,
   "metadata": {
    "collapsed": false
   },
   "outputs": [
    {
     "name": "stdout",
     "output_type": "stream",
     "text": [
      "['a', 'b', 'c', 'd']\n"
     ]
    }
   ],
   "source": [
    "# Using split() method and for loop to recreate original .\n",
    "myString.split()\n",
    "myList = []\n",
    "for i in myString:\n",
    "    myList.append(i)\n",
    "print myList"
   ]
  },
  {
   "cell_type": "code",
   "execution_count": 50,
   "metadata": {
    "collapsed": false
   },
   "outputs": [
    {
     "name": "stdout",
     "output_type": "stream",
     "text": [
      "['I', 'am', 'the', 'very', 'model', 'of', 'a', 'modern', 'major', 'general']\n"
     ]
    }
   ],
   "source": [
    "# Using replace(), strip(), and split() methods to convert a sentence string into a list of its constituent words.\n",
    "\n",
    "myString = \"I am the very model of a modern major general.\"\n",
    "myList = myString.replace('.', '').strip().split()\n",
    "print myList"
   ]
  },
  {
   "cell_type": "code",
   "execution_count": 54,
   "metadata": {
    "collapsed": false
   },
   "outputs": [
    {
     "name": "stdout",
     "output_type": "stream",
     "text": [
      "['I', 'am', 'the', 'very', 'model', 'of', 'a', 'modern', 'major', 'general']\n"
     ]
    }
   ],
   "source": [
    "# Using reverse() method, which alters original list in-place.\n",
    "\n",
    "myList.reverse()\n",
    "print myList"
   ]
  },
  {
   "cell_type": "code",
   "execution_count": 130,
   "metadata": {
    "collapsed": false
   },
   "outputs": [
    {
     "name": "stdout",
     "output_type": "stream",
     "text": [
      "[('a', 0), ('b', 1), ('c', 2), ('d', 3)]\n"
     ]
    }
   ],
   "source": [
    "# Using zip() method to combine two lists of equal length into pairs of tuples.\n",
    "\n",
    "alpha = [i for i in 'abcd']\n",
    "numeric = [i for i in range(4)]\n",
    "alphanumeric = zip(alpha, numeric)\n",
    "print alphanumeric"
   ]
  },
  {
   "cell_type": "code",
   "execution_count": 131,
   "metadata": {
    "collapsed": false
   },
   "outputs": [
    {
     "name": "stdout",
     "output_type": "stream",
     "text": [
      "{'a': 0, 'c': 2, 'b': 1, 'd': 3}\n"
     ]
    }
   ],
   "source": [
    "# Using dict() to convert list of tuples to a dict.\n",
    "\n",
    "alphanumeric = dict(alphanumeric)\n",
    "print alphanumeric"
   ]
  },
  {
   "cell_type": "code",
   "execution_count": 132,
   "metadata": {
    "collapsed": false
   },
   "outputs": [
    {
     "name": "stdout",
     "output_type": "stream",
     "text": [
      "{'c': 2, 'b': 1, 'd': 3}\n"
     ]
    }
   ],
   "source": [
    "# Using del operator to eliminate a dict key, which also eliminates its corresponding value.\n",
    "\n",
    "del alphanumeric['a']\n",
    "print alphanumeric"
   ]
  },
  {
   "cell_type": "code",
   "execution_count": 69,
   "metadata": {
    "collapsed": false
   },
   "outputs": [
    {
     "name": "stdout",
     "output_type": "stream",
     "text": [
      "['a', 'b', 'c', 'd', 'e', 'f', 'g', 'h', 'i', 'j', 'k', 'l']\n"
     ]
    }
   ],
   "source": [
    "# Using a list comprehension instead of a for loop to create a list.\n",
    "\n",
    "myList = [i for i in 'abcdefghijkl']\n",
    "print myList"
   ]
  },
  {
   "cell_type": "code",
   "execution_count": 152,
   "metadata": {
    "collapsed": false
   },
   "outputs": [
    {
     "name": "stdout",
     "output_type": "stream",
     "text": [
      "Hello, world! This That\n",
      "Hello, world! This That\n"
     ]
    }
   ],
   "source": [
    "# Using the format() method and % operator to perform the same action.\n",
    "\n",
    "print \"Hello, world! {} {}\".format(\"This\", \"That\")\n",
    "print \"Hello, world! %s %s\" % (\"This\", \"That\")"
   ]
  },
  {
   "cell_type": "code",
   "execution_count": 156,
   "metadata": {
    "collapsed": false
   },
   "outputs": [
    {
     "name": "stdout",
     "output_type": "stream",
     "text": [
      "[1, 2, 4, 4, 5, 6, 34, 99, 'A', 'ZE', 'a', 'ze']\n"
     ]
    }
   ],
   "source": [
    "# Using the sorted() built-in function on alphanumeric list.\n",
    "\n",
    "f = [1, 4, 5, 6, 2, 4, \"A\", 'a', 99, 34, \"ZE\", \"ze\"]\n",
    "f = sorted(f)\n",
    "print f"
   ]
  },
  {
   "cell_type": "code",
   "execution_count": 162,
   "metadata": {
    "collapsed": false
   },
   "outputs": [
    {
     "name": "stdout",
     "output_type": "stream",
     "text": [
      "The max number is: 12. It is located at index: 3.\n"
     ]
    }
   ],
   "source": [
    "# Using index() method and max() built-in function.\n",
    "t = [1, 3, 6, 12, 1, 2, 1]\n",
    "\n",
    "print \"The max number is: {}. It is located at index: {}.\".format(max(t), (t.index(max(t))))"
   ]
  },
  {
   "cell_type": "code",
   "execution_count": 181,
   "metadata": {
    "collapsed": false
   },
   "outputs": [
    {
     "name": "stdout",
     "output_type": "stream",
     "text": [
      "Total is: 37\n",
      "Average is: 4.625\n"
     ]
    }
   ],
   "source": [
    "# Computing average and sum of numbers in a list.\n",
    "\n",
    "l = [1, 2, 3, 4, 5, 6, 7, 9]\n",
    "\n",
    "total = 0\n",
    "for i in l:\n",
    "    total += i\n",
    "\n",
    "print \"Total is: %s\" % total\n",
    "print \"Average is: %r\" % (total / float(len(l)))"
   ]
  },
  {
   "cell_type": "markdown",
   "metadata": {},
   "source": [
    "# Other Python Basic Functionality"
   ]
  },
  {
   "cell_type": "code",
   "execution_count": 72,
   "metadata": {
    "collapsed": false
   },
   "outputs": [
    {
     "name": "stdout",
     "output_type": "stream",
     "text": [
      "Using the \\n escape sequence produces \n",
      " this \n",
      " output.\n"
     ]
    }
   ],
   "source": [
    "# Using \\n escape sequence.\n",
    "\n",
    "myString = \"Using the \\\\n escape sequence produces \\n this \\n output.\"\n",
    "print myString"
   ]
  },
  {
   "cell_type": "code",
   "execution_count": 82,
   "metadata": {
    "collapsed": false
   },
   "outputs": [
    {
     "name": "stdout",
     "output_type": "stream",
     "text": [
      "True\n",
      "False\n",
      "True\n",
      "False\n",
      "True\n"
     ]
    }
   ],
   "source": [
    "# Using 'in' keyword and boolean comparisons.\n",
    "\n",
    "print \"C\" in \"Cat\"\n",
    "print \"D\" not in \"Dog\"\n",
    "print \"D\" not in \"Cat\" or \"D\" not in \"Dog\"\n",
    "print \"D\" not in \"Cat\" and \"D\" not in \"Dog\"\n",
    "print \"D\" not in \"Cat\" or \"D\" in \"Dog\""
   ]
  },
  {
   "cell_type": "code",
   "execution_count": 149,
   "metadata": {
    "collapsed": false
   },
   "outputs": [
    {
     "name": "stdout",
     "output_type": "stream",
     "text": [
      "Jello, world!\n"
     ]
    }
   ],
   "source": [
    "# Using concatenation to modify a string.\n",
    "\n",
    "greeting = \"Hello, world!\"\n",
    "greeting = 'J' + greeting[1:]\n",
    "print greeting"
   ]
  },
  {
   "cell_type": "code",
   "execution_count": 151,
   "metadata": {
    "collapsed": false
   },
   "outputs": [
    {
     "name": "stdout",
     "output_type": "stream",
     "text": [
      "0 1 2 3 4 5 6 7 8 9\n"
     ]
    }
   ],
   "source": [
    "# Using \"trailing comma\" to produce all of a for loop's output on the same line.\n",
    "for i in range(10):\n",
    "    print i,"
   ]
  },
  {
   "cell_type": "markdown",
   "metadata": {},
   "source": [
    "# Custom Functions"
   ]
  },
  {
   "cell_type": "code",
   "execution_count": 25,
   "metadata": {
    "collapsed": false
   },
   "outputs": [
    {
     "name": "stdout",
     "output_type": "stream",
     "text": [
      "The number is prime.\n"
     ]
    },
    {
     "data": {
      "text/plain": [
       "True"
      ]
     },
     "execution_count": 25,
     "metadata": {},
     "output_type": "execute_result"
    }
   ],
   "source": [
    "# Simple prime number function.\n",
    "\n",
    "def prime_find(x):\n",
    "    if x < 2:\n",
    "        print \"The number is not prime.\"\n",
    "        return False\n",
    "    for i in range(2, x):\n",
    "        if x % i == 0:\n",
    "            print \"The number is not prime.\"\n",
    "            return False\n",
    "    print \"The number is prime.\"\n",
    "    return True\n",
    "\n",
    "prime_find(2)"
   ]
  },
  {
   "cell_type": "code",
   "execution_count": 71,
   "metadata": {
    "collapsed": false
   },
   "outputs": [
    {
     "name": "stdout",
     "output_type": "stream",
     "text": [
      "1 \t2 \t3 \t4 \t5 \t6 \t7 \t8 \t9 \t10 \t\n",
      "2 \t4 \t6 \t8 \t10 \t12 \t14 \t16 \t18 \t20 \t\n",
      "3 \t6 \t9 \t12 \t15 \t18 \t21 \t24 \t27 \t30 \t\n",
      "4 \t8 \t12 \t16 \t20 \t24 \t28 \t32 \t36 \t40 \t\n",
      "5 \t10 \t15 \t20 \t25 \t30 \t35 \t40 \t45 \t50 \t\n",
      "6 \t12 \t18 \t24 \t30 \t36 \t42 \t48 \t54 \t60 \t\n",
      "7 \t14 \t21 \t28 \t35 \t42 \t49 \t56 \t63 \t70 \t\n",
      "8 \t16 \t24 \t32 \t40 \t48 \t56 \t64 \t72 \t80 \t\n",
      "9 \t18 \t27 \t36 \t45 \t54 \t63 \t72 \t81 \t90 \t\n",
      "10 \t20 \t30 \t40 \t50 \t60 \t70 \t80 \t90 \t100 \t\n",
      "11 \t22 \t33 \t44 \t55 \t66 \t77 \t88 \t99 \t110 \t\n",
      "12 \t24 \t36 \t48 \t60 \t72 \t84 \t96 \t108 \t120 \t\n",
      "13 \t26 \t39 \t52 \t65 \t78 \t91 \t104 \t117 \t130 \t\n",
      "14 \t28 \t42 \t56 \t70 \t84 \t98 \t112 \t126 \t140 \t\n",
      "15 \t30 \t45 \t60 \t75 \t90 \t105 \t120 \t135 \t150 \t\n"
     ]
    }
   ],
   "source": [
    "# Generates multiple of an argument passed in.\n",
    "def multiples(n):\n",
    "    i = 1\n",
    "    while i <= 10:\n",
    "        print n * i, '\\t',\n",
    "        i += 1\n",
    "    print\n",
    "\n",
    "# Generates a multiplication table for an argument passed in.\n",
    "def mult_table(n):\n",
    "    i = 1\n",
    "    while i <= n:\n",
    "        multiples(i)\n",
    "        i += 1\n",
    "\n",
    "mult_table(15)"
   ]
  },
  {
   "cell_type": "code",
   "execution_count": 83,
   "metadata": {
    "collapsed": false
   },
   "outputs": [
    {
     "name": "stdout",
     "output_type": "stream",
     "text": [
      "1 \t1\n",
      "2 \t3\n",
      "3 \t6\n",
      "4 \t10\n",
      "5 \t15\n",
      "6 \t21\n",
      "7 \t28\n",
      "8 \t36\n",
      "9 \t45\n",
      "10 \t55\n",
      "11 \t66\n",
      "12 \t78\n",
      "13 \t91\n",
      "14 \t105\n",
      "15 \t120\n"
     ]
    }
   ],
   "source": [
    "# Challenge to write a function to print triangular numbers.\n",
    "def print_triangular_numbers(n):\n",
    "    i = 1\n",
    "    x = 1\n",
    "    while i <= n:\n",
    "        print i, '\\t', x\n",
    "        i += 1\n",
    "        x += i\n",
    "\n",
    "print_triangular_numbers(15)"
   ]
  },
  {
   "cell_type": "code",
   "execution_count": 103,
   "metadata": {
    "collapsed": false
   },
   "outputs": [
    {
     "data": {
      "text/plain": [
       "14"
      ]
     },
     "execution_count": 103,
     "metadata": {},
     "output_type": "execute_result"
    }
   ],
   "source": [
    "# Function that returns the sum of the squares of digits in a number passed to it.\n",
    "\n",
    "def sum_of_sqs(n):\n",
    "    n = str(n)\n",
    "    total = 0\n",
    "    for x in n:\n",
    "        total += int(x)**2\n",
    "    return total\n",
    "\n",
    "sum_of_sqs(123)"
   ]
  },
  {
   "cell_type": "code",
   "execution_count": 144,
   "metadata": {
    "collapsed": false
   },
   "outputs": [
    {
     "name": "stdout",
     "output_type": "stream",
     "text": [
      "8\n",
      "8\n"
     ]
    }
   ],
   "source": [
    "# Challenge to write a function that counts occurrences of a sub-string.\n",
    "\n",
    "def find(sub, s):\n",
    "    count = 0\n",
    "    total = 0\n",
    "    while count < len(s):\n",
    "        if sub in s[count: count + len(sub)]:\n",
    "            total += 1\n",
    "        count += 1\n",
    "    return total\n",
    "\n",
    "phrase = \"she shure ish shweet, isn't she? Yep, she shure is. Sheesh!\"\n",
    "print find(\"sh\", phrase)\n",
    "\n",
    "# Note: count() method does the same thing.\n",
    "print phrase.count(\"sh\")"
   ]
  },
  {
   "cell_type": "code",
   "execution_count": 134,
   "metadata": {
    "collapsed": false
   },
   "outputs": [
    {
     "name": "stdout",
     "output_type": "stream",
     "text": [
      "aremac\n"
     ]
    }
   ],
   "source": [
    "# Challenge to write a function that reverses the order of characters in a string passed in.\n",
    "def mirror(s):\n",
    "    ls = []\n",
    "    count = len(s) - 1\n",
    "    for x in s:\n",
    "        ls.append(s[count])\n",
    "        count -= 1\n",
    "    s = \"\".join(ls)\n",
    "    return s\n",
    "\n",
    "print mirror(\"camera\")"
   ]
  },
  {
   "cell_type": "code",
   "execution_count": 135,
   "metadata": {
    "collapsed": false
   },
   "outputs": [
    {
     "data": {
      "text/plain": [
       "'Houseboat'"
      ]
     },
     "execution_count": 135,
     "metadata": {},
     "output_type": "execute_result"
    }
   ],
   "source": [
    "# Function to remove spaces.\n",
    "def space_remover(word):\n",
    "    for x in word:\n",
    "        if x == \" \":\n",
    "            word = word.replace(x,\"\")\n",
    "    return word\n",
    "space_remover(\"House boat\")"
   ]
  },
  {
   "cell_type": "code",
   "execution_count": 137,
   "metadata": {
    "collapsed": false
   },
   "outputs": [
    {
     "name": "stdout",
     "output_type": "stream",
     "text": [
      "True\n"
     ]
    }
   ],
   "source": [
    "# Challenge to write a program that detects palindromes (case-insensitive). Uses space_remover function above.\n",
    "\n",
    "def is_palindrome(x):\n",
    "    x = (space_remover(x)).lower()\n",
    "    if x == mirror(x):\n",
    "        print x == mirror(x)\n",
    "    else:\n",
    "        print x == mirror(x)\n",
    "\n",
    "is_palindrome(\"Eva Can I Stab Bats In A Cave\")"
   ]
  },
  {
   "cell_type": "markdown",
   "metadata": {
    "collapsed": true
   },
   "source": [
    "# Challenges from http://www.practicepython.org/"
   ]
  },
  {
   "cell_type": "code",
   "execution_count": 1,
   "metadata": {
    "collapsed": false
   },
   "outputs": [
    {
     "name": "stdout",
     "output_type": "stream",
     "text": [
      "general major modern a of model very the am I\n",
      "None\n"
     ]
    }
   ],
   "source": [
    "\"\"\"Write a program (using functions!) that asks the user for a long string containing multiple words.\n",
    "Print back to the user the same string, except with the words in backwards order. For example, say I type the string:\n",
    "\n",
    "  My name is Michele\n",
    "Then I would see the string:\n",
    "\n",
    "  Michele is name My\n",
    "shown back to me.\"\"\"\n",
    "\n",
    "def rev_sentence(x):\n",
    "    ls = x.split()\n",
    "    rev_ls = []\n",
    "    for i, word in enumerate(ls):\n",
    "        rev_ls.append(ls[-(i + 1)])\n",
    "    print \" \".join(rev_ls)\n",
    "\n",
    "sentence = \"I am the very model of a modern major general\"\n",
    "print rev_sentence(sentence)"
   ]
  },
  {
   "cell_type": "code",
   "execution_count": 2,
   "metadata": {
    "collapsed": false
   },
   "outputs": [
    {
     "name": "stdout",
     "output_type": "stream",
     "text": [
      "[1, 1, 2, 3, 5, 8, 13, 21, 34, 55, 89]\n"
     ]
    }
   ],
   "source": [
    "\"\"\"Write a program that asks the user how many Fibonnaci numbers to generate and then generates them.\n",
    "Take this opportunity to think about how you can use functions.\n",
    "Make sure to ask the user to enter the number of numbers in the sequence to generate.\n",
    "(Hint: The Fibonnaci seqence is a sequence of numbers where the next number in the sequence is the sum of the previous\n",
    "two numbers in the sequence. The sequence looks like this: 1, 1, 2, 3, 5, 8, 13, …)\"\"\"\n",
    "\n",
    "def Fibonacci(x):\n",
    "    ls = [1, 1]\n",
    "    for num in range(1, x):\n",
    "        ls.append(ls[-1] + ls[-2])\n",
    "    return ls\n",
    "\n",
    "print Fibonacci(10)"
   ]
  },
  {
   "cell_type": "code",
   "execution_count": null,
   "metadata": {
    "collapsed": true
   },
   "outputs": [],
   "source": []
  }
 ],
 "metadata": {
  "kernelspec": {
   "display_name": "Python 2",
   "language": "python",
   "name": "python2"
  },
  "language_info": {
   "codemirror_mode": {
    "name": "ipython",
    "version": 2
   },
   "file_extension": ".py",
   "mimetype": "text/x-python",
   "name": "python",
   "nbconvert_exporter": "python",
   "pygments_lexer": "ipython2",
   "version": "2.7.11"
  }
 },
 "nbformat": 4,
 "nbformat_minor": 0
}

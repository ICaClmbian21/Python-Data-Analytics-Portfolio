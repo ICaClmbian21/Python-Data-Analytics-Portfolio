{
 "cells": [
  {
   "cell_type": "code",
   "execution_count": 1,
   "metadata": {
    "collapsed": true
   },
   "outputs": [],
   "source": [
    "import sqlite3"
   ]
  },
  {
   "cell_type": "code",
   "execution_count": 120,
   "metadata": {
    "collapsed": false
   },
   "outputs": [
    {
     "name": "stdout",
     "output_type": "stream",
     "text": [
      "<type 'sqlite3.Connection'>\n",
      "Opened database successfully\n",
      "Tables created successfully.\n"
     ]
    }
   ],
   "source": [
    "# Create new database.\n",
    "\n",
    "conn = sqlite3.connect('people.db')\n",
    "print type(conn)\n",
    "print \"Opened database successfully\";\n",
    "\n",
    "# Create two tables to include in the 'people' database, 'basic_info' and 'prefs'.\n",
    "conn.execute(\n",
    "\"\"\"CREATE TABLE IF NOT EXISTS basic_info \n",
    "(ID INTEGER PRIMARY KEY AUTOINCREMENT,\n",
    "Name TEXT,\n",
    "age INTEGER)\"\"\")\n",
    "\n",
    "conn.execute(\n",
    "\"\"\"CREATE TABLE IF NOT EXISTS prefs \n",
    "(ID INTEGER PRIMARY KEY AUTOINCREMENT,\n",
    "Name TEXT,\n",
    "fav_color TEXT,\n",
    "fav_sport TEXT)\"\"\")\n",
    "\n",
    "\n",
    "print \"Tables created successfully.\";\n",
    "conn.close() # <- Make sure to close the open file."
   ]
  },
  {
   "cell_type": "code",
   "execution_count": 125,
   "metadata": {
    "collapsed": false
   },
   "outputs": [
    {
     "name": "stdout",
     "output_type": "stream",
     "text": [
      "{'Tom': 57, 'Curly': 32, 'Dick': 58, 'Larry': 36, 'Harry': 48, 'Moe': 37}\n"
     ]
    }
   ],
   "source": [
    "# Using Python dict, create and store data to include in basic_info table.\n",
    "\n",
    "names = ['Larry', 'Curly', 'Moe', 'Tom', 'Dick', 'Harry']\n",
    "ages = [36, 32, 37, 57, 58, 48]\n",
    "basic_info = {}\n",
    "for x in range(len(names)):\n",
    "    basic_info[names[x]] = ages[x]\n",
    "print basic_info"
   ]
  },
  {
   "cell_type": "code",
   "execution_count": 126,
   "metadata": {
    "collapsed": false
   },
   "outputs": [
    {
     "name": "stdout",
     "output_type": "stream",
     "text": [
      "{'Tom': ['yellow', 't-ball'], 'Curly': ['blue', 'curling'], 'Dick': ['purple', 'decathlon'], 'Larry': ['purple', 'lacrosse'], 'Harry': ['purple', 'hoops'], 'Moe': ['red', 'MMA']}\n"
     ]
    }
   ],
   "source": [
    "# Do the same for the data to include in prefs table.\n",
    "\n",
    "fav_colors = ['purple', 'blue', 'red', 'yellow', 'purple', 'purple']\n",
    "fav_sports = ['lacrosse', 'curling', 'MMA', 't-ball', 'decathlon', 'hoops']\n",
    "\n",
    "prefs = {}\n",
    "for x in range(len(names)):\n",
    "    prefs[names[x]] = [fav_colors[x], fav_sports[x]]\n",
    "\n",
    "print prefs"
   ]
  },
  {
   "cell_type": "code",
   "execution_count": 147,
   "metadata": {
    "collapsed": false
   },
   "outputs": [
    {
     "name": "stdout",
     "output_type": "stream",
     "text": [
      "Tom\n",
      "57\n",
      "Curly\n",
      "32\n",
      "Dick\n",
      "58\n",
      "Larry\n",
      "36\n",
      "Harry\n",
      "48\n",
      "Moe\n",
      "37\n",
      "\n",
      "yellow\n"
     ]
    }
   ],
   "source": [
    "# Verify how to drill down to each datum in basic_info and prefs dict.\n",
    "\n",
    "for name in basic_info:\n",
    "    print name\n",
    "    print basic_info[name]\n",
    "\n",
    "print '\\n', prefs['Tom'][0]"
   ]
  },
  {
   "cell_type": "code",
   "execution_count": 137,
   "metadata": {
    "collapsed": false
   },
   "outputs": [
    {
     "name": "stdout",
     "output_type": "stream",
     "text": [
      "Opened database successfully\n",
      "Records created successfully.\n"
     ]
    }
   ],
   "source": [
    "# Populate basic_info table with data from corresponding basic_info dict.\n",
    "\n",
    "conn = sqlite3.connect('people.db')\n",
    "print \"Opened database successfully\";\n",
    "cursor = conn.cursor()\n",
    "\n",
    "for name in basic_info:\n",
    "    cursor.execute(\"INSERT INTO basic_info (Name, age) VALUES (?, ?)\", \n",
    "                  (name, basic_info[name]))\n",
    "    conn.commit()\n",
    "\n",
    "print \"Records created successfully.\";\n",
    "conn.close()"
   ]
  },
  {
   "cell_type": "code",
   "execution_count": 139,
   "metadata": {
    "collapsed": false
   },
   "outputs": [
    {
     "name": "stdout",
     "output_type": "stream",
     "text": [
      "Opened database successfully\n",
      "Records created successfully.\n"
     ]
    }
   ],
   "source": [
    "# Do the same for prefs table.\n",
    "\n",
    "conn = sqlite3.connect('people.db')\n",
    "print \"Opened database successfully\";\n",
    "cursor = conn.cursor()\n",
    "\n",
    "for name in prefs:\n",
    "    cursor.execute(\"INSERT INTO prefs (Name, fav_color, fav_sport) VALUES (?, ?, ?)\", \n",
    "                  (name, prefs[name][0], prefs[name][1]))\n",
    "    conn.commit()\n",
    "\n",
    "print \"Records created successfully.\";\n",
    "conn.close()"
   ]
  },
  {
   "cell_type": "code",
   "execution_count": 140,
   "metadata": {
    "collapsed": false
   },
   "outputs": [
    {
     "name": "stdout",
     "output_type": "stream",
     "text": [
      "Opened database successfully\n",
      "(1, u'Tom', 57)\n",
      "(2, u'Curly', 32)\n",
      "(3, u'Dick', 58)\n",
      "(4, u'Larry', 36)\n",
      "(5, u'Harry', 48)\n",
      "(6, u'Moe', 37)\n"
     ]
    }
   ],
   "source": [
    "# Run a query on basic_info.\n",
    "\n",
    "conn = sqlite3.connect('people.db')\n",
    "print \"Opened database successfully\";\n",
    "cursor = conn.cursor()\n",
    "\n",
    "data = cursor.execute(\"SELECT * FROM basic_info\")\n",
    "for row in data:\n",
    "    print row\n",
    "\n",
    "conn.close()"
   ]
  },
  {
   "cell_type": "code",
   "execution_count": 141,
   "metadata": {
    "collapsed": false
   },
   "outputs": [
    {
     "name": "stdout",
     "output_type": "stream",
     "text": [
      "Opened database successfully\n",
      "(1, u'Tom', u'yellow', u't-ball')\n",
      "(2, u'Curly', u'blue', u'curling')\n",
      "(3, u'Dick', u'purple', u'decathlon')\n",
      "(4, u'Larry', u'purple', u'lacrosse')\n",
      "(5, u'Harry', u'purple', u'hoops')\n",
      "(6, u'Moe', u'red', u'MMA')\n"
     ]
    }
   ],
   "source": [
    "# Do the same for prefs.\n",
    "\n",
    "conn = sqlite3.connect('people.db')\n",
    "print \"Opened database successfully\";\n",
    "cursor = conn.cursor()\n",
    "\n",
    "data = cursor.execute(\"SELECT * FROM prefs\")\n",
    "for row in data:\n",
    "    print row\n",
    "\n",
    "conn.close()"
   ]
  },
  {
   "cell_type": "code",
   "execution_count": 143,
   "metadata": {
    "collapsed": false
   },
   "outputs": [
    {
     "name": "stdout",
     "output_type": "stream",
     "text": [
      "(u'Tom', u'yellow', u't-ball')\n",
      "(u'Curly', u'blue', u'curling')\n",
      "(u'Dick', u'purple', u'decathlon')\n",
      "(u'Larry', u'purple', u'lacrosse')\n",
      "(u'Harry', u'purple', u'hoops')\n",
      "(u'Moe', u'red', u'MMA')\n"
     ]
    }
   ],
   "source": [
    "# Run a query on both tables using an inner join.\n",
    "\n",
    "conn = sqlite3.connect('people.db')\n",
    "cursor = conn.cursor()\n",
    "\n",
    "data = cursor.execute('''\n",
    "SELECT basic_info.Name, prefs.fav_color, prefs.fav_sport\n",
    "FROM basic_info\n",
    "JOIN prefs\n",
    "ON basic_info.Name = prefs.Name''')\n",
    "for row in data:\n",
    "    print row\n",
    "\n",
    "conn.close()"
   ]
  },
  {
   "cell_type": "code",
   "execution_count": 148,
   "metadata": {
    "collapsed": false
   },
   "outputs": [
    {
     "data": {
      "text/plain": [
       "u'/Users/adamweber/Desktop/Google Drive/Data Analytics/Python'"
      ]
     },
     "execution_count": 148,
     "metadata": {},
     "output_type": "execute_result"
    }
   ],
   "source": [
    "% pwd"
   ]
  },
  {
   "cell_type": "code",
   "execution_count": null,
   "metadata": {
    "collapsed": true
   },
   "outputs": [],
   "source": []
  }
 ],
 "metadata": {
  "kernelspec": {
   "display_name": "Python 2",
   "language": "python",
   "name": "python2"
  },
  "language_info": {
   "codemirror_mode": {
    "name": "ipython",
    "version": 2
   },
   "file_extension": ".py",
   "mimetype": "text/x-python",
   "name": "python",
   "nbconvert_exporter": "python",
   "pygments_lexer": "ipython2",
   "version": "2.7.12"
  }
 },
 "nbformat": 4,
 "nbformat_minor": 0
}
